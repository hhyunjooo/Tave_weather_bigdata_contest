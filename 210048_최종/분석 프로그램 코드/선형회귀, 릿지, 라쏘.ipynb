{
 "cells": [
  {
   "cell_type": "code",
   "execution_count": null,
   "metadata": {},
   "outputs": [],
   "source": [
    "import pandas as pd\n",
    "import matplotlib.pyplot as plt\n",
    "import seaborn as sns\n",
    "import warnings\n",
    "import numpy as np\n",
    "\n",
    "warnings.filterwarnings('ignore')\n",
    "plt.rc('font',family='Batang')\n",
    "plt.rcParams[\"figure.figsize\"] = (10,10)"
   ]
  },
  {
   "cell_type": "code",
   "execution_count": null,
   "metadata": {},
   "outputs": [],
   "source": [
    "buy_weather_total = pd.read_csv(\"../활용 데이터셋/buy_weather_total.csv\", encoding ='cp949', parse_dates=[\"일시\"])"
   ]
  },
  {
   "cell_type": "code",
   "execution_count": null,
   "metadata": {},
   "outputs": [],
   "source": [
    "buy_weather_total"
   ]
  },
  {
   "cell_type": "markdown",
   "metadata": {},
   "source": [
    "## 온도 - 냉방"
   ]
  },
  {
   "cell_type": "code",
   "execution_count": null,
   "metadata": {},
   "outputs": [],
   "source": [
    "buy_weather_tpr = pd.read_csv(\"../활용 데이터셋/buy_weather_tpr.csv\", encoding ='cp949', parse_dates=[\"일시\"])"
   ]
  },
  {
   "cell_type": "code",
   "execution_count": null,
   "metadata": {},
   "outputs": [],
   "source": [
    "buy_weather_tpr"
   ]
  },
  {
   "cell_type": "markdown",
   "metadata": {},
   "source": [
    "## 온도 - 난방"
   ]
  },
  {
   "cell_type": "code",
   "execution_count": null,
   "metadata": {},
   "outputs": [],
   "source": [
    "buy_weather_tph = pd.read_csv(\"../활용 데이터셋/buy_weather_tph.csv\", encoding ='cp949', parse_dates=[\"일시\"])"
   ]
  },
  {
   "cell_type": "code",
   "execution_count": null,
   "metadata": {},
   "outputs": [],
   "source": [
    "buy_weather_tph"
   ]
  },
  {
   "cell_type": "markdown",
   "metadata": {},
   "source": [
    "## 습도"
   ]
  },
  {
   "cell_type": "code",
   "execution_count": null,
   "metadata": {},
   "outputs": [],
   "source": [
    "buy_weather_hm = pd.read_csv(\"../활용 데이터셋/buy_weather_hm.csv\", encoding ='cp949', parse_dates=[\"일시\"])"
   ]
  },
  {
   "cell_type": "code",
   "execution_count": null,
   "metadata": {},
   "outputs": [],
   "source": [
    "buy_weather_hm"
   ]
  },
  {
   "cell_type": "markdown",
   "metadata": {},
   "source": [
    "## 공기"
   ]
  },
  {
   "cell_type": "code",
   "execution_count": null,
   "metadata": {},
   "outputs": [],
   "source": [
    "buy_weather_ar = pd.read_csv(\"../활용 데이터셋/buy_weather_ar.csv\", encoding ='cp949', parse_dates=[\"일시\"])"
   ]
  },
  {
   "cell_type": "code",
   "execution_count": null,
   "metadata": {},
   "outputs": [],
   "source": [
    "buy_weather_ar"
   ]
  },
  {
   "cell_type": "markdown",
   "metadata": {},
   "source": [
    "## 냉난방"
   ]
  },
  {
   "cell_type": "code",
   "execution_count": null,
   "metadata": {},
   "outputs": [],
   "source": [
    "buy_weather_tp = pd.read_csv(\"../활용 데이터셋/buy_weather_tp.csv\", encoding ='cp949', parse_dates=[\"일시\"])"
   ]
  },
  {
   "cell_type": "code",
   "execution_count": null,
   "metadata": {},
   "outputs": [],
   "source": [
    "buy_weather_tp"
   ]
  },
  {
   "cell_type": "markdown",
   "metadata": {},
   "source": [
    "### 평가기준"
   ]
  },
  {
   "cell_type": "code",
   "execution_count": null,
   "metadata": {},
   "outputs": [],
   "source": [
    "from sklearn.linear_model import LinearRegression\n",
    "from sklearn.metrics import mean_squared_error, r2_score\n",
    "from sklearn.linear_model import Ridge\n",
    "from sklearn.linear_model import Lasso, ElasticNet\n",
    "from sklearn.metrics import mean_absolute_error\n"
   ]
  },
  {
   "cell_type": "code",
   "execution_count": null,
   "metadata": {},
   "outputs": [],
   "source": [
    "def MAPE(y_test, y_pred):\n",
    "    return np.mean(np.abs((y_test - y_pred) / y_test)) * 100 \n",
    "\n",
    "def MPE(y_test, y_pred): \n",
    "    return np.mean((y_test - y_pred) / y_test) * 100\n",
    "\n",
    "def get_rmse(model):\n",
    "    pred = model.predict(X_test)\n",
    "    mse = mean_squared_error(y_test , pred)\n",
    "    rmse = np.sqrt(mse)\n",
    "    mpe = MPE(y_test,pred)\n",
    "    mape = MAPE(y_test,pred)\n",
    "    mae = mean_absolute_error(y_test, pred)\n",
    "\n",
    "    r2 = r2_score(y_test, pred)\n",
    "    \n",
    "    print('{0} 로그 변환된 RMSE: {1}'.format(model.__class__.__name__,np.round(rmse, 3)))\n",
    "    print('{0} 로그 변환된 MSE: {1}'.format(model.__class__.__name__,np.round(mse, 3)))\n",
    "    print('{0} 로그 변환된 MAE: {1}'.format(model.__class__.__name__,np.round(mae, 3)))\n",
    "    print('{0} 로그 변환된 MAPE: {1}'.format(model.__class__.__name__,np.round(mape, 3)))\n",
    "    print('{0} 로그 변환된 MPE: {1}'.format(model.__class__.__name__,np.round(mpe, 3)))\n",
    "    print('r2-score : {0:.3f}'.format(r2))\n",
    "    return rmse,mse,mae,mape,mpe,r2\n",
    "\n",
    "\n",
    "def get_rmses(model):\n",
    "#     rmses=[]\n",
    "    rmse,mse,mae,mape,mpe,r2 = get_rmse(model)\n",
    "#     rmses.append(rmse)\n",
    "#   tpr_eval_test= tpr_eval_test.append({'sm_cat': cg_,'model':model,'MSE': mse, 'RMSE': rmse, 'MAE':mae, 'MAPE':mape,\n",
    "#                                      'MPE':mpe,'R2-score':r2}, ignore_index=True)\n",
    "        \n",
    "    return rmse,mse,mae,mape,mpe,r2\n",
    "\n"
   ]
  },
  {
   "cell_type": "markdown",
   "metadata": {},
   "source": [
    "### 함수"
   ]
  },
  {
   "cell_type": "code",
   "execution_count": null,
   "metadata": {},
   "outputs": [],
   "source": [
    "from sklearn.model_selection import GridSearchCV\n",
    "\n",
    "def print_best_params(model, params):\n",
    "    grid_model = GridSearchCV(model, param_grid=params, \n",
    "                              scoring='neg_mean_squared_error', cv=5)\n",
    "    grid_model.fit(X_features, y_target)\n",
    "    rmse = np.sqrt(-1* grid_model.best_score_)\n",
    "    print('{0} 5 CV 시 최적 평균 RMSE 값: {1}, 최적 parameter:{2}'.format(model.__class__.__name__,\n",
    "                                        np.round(rmse, 4), grid_model.best_params_))\n",
    "    return grid_model.best_estimator_, grid_model.best_params_"
   ]
  },
  {
   "cell_type": "code",
   "execution_count": null,
   "metadata": {},
   "outputs": [],
   "source": [
    "from sklearn.model_selection import train_test_split\n",
    "\n",
    "# 인자로 입력받은 DataFrame을 복사 한 뒤 Time 컬럼만 삭제하고 복사된 DataFrame 반환\n",
    "def get_preprocessed_df(df=None):\n",
    "    df_copy = df.copy()\n",
    "    df_copy.drop(['sm_cat','일시'], axis=1, inplace=True)\n",
    "    return df_copy"
   ]
  },
  {
   "cell_type": "code",
   "execution_count": null,
   "metadata": {},
   "outputs": [],
   "source": [
    "# 사전 데이터 가공 후 학습과 테스트 데이터 세트를 반환하는 함수.\n",
    "def get_train_test_dataset(df=None):\n",
    "    df = get_preprocessed_df(df)\n",
    "    \n",
    "    features_index = df.dtypes[df.dtypes != 'object'].index\n",
    "    skew_features = df[features_index].apply(lambda x : skew(x))\n",
    "    skew_features_top = skew_features[skew_features > 1]\n",
    "    df[skew_features_top.index] = np.log1p(df[skew_features_top.index])\n",
    "    \n",
    "    X_features = df.drop('qty',axis=1, inplace=False)\n",
    "    y_target = df['qty']\n",
    "    X_train, X_test, y_train, y_test = train_test_split(X_features, y_target, test_size=0.2, random_state=156)\n",
    "    \n",
    "    return X_features,y_target,X_train, X_test, y_train, y_test"
   ]
  },
  {
   "cell_type": "markdown",
   "metadata": {},
   "source": [
    "## 모델링"
   ]
  },
  {
   "cell_type": "code",
   "execution_count": null,
   "metadata": {},
   "outputs": [],
   "source": [
    "tpr_eval = pd.DataFrame(columns=['sm_cat','model','alpha','MSE','RMSE','MAE','MAPE',\n",
    "                                      'MPE','R2-score'])\n",
    "\n",
    "tph_eval = pd.DataFrame(columns=['sm_cat','model','alpha','MSE','RMSE','MAE','MAPE',\n",
    "                                      'MPE','R2-score'])\n",
    "\n",
    "hm_eval = pd.DataFrame(columns=['sm_cat','model','alpha','MSE','RMSE','MAE','MAPE',\n",
    "                                      'MPE','R2-score'])\n",
    "\n",
    "air_eval = pd.DataFrame(columns=['sm_cat','model','alpha','MSE','RMSE','MAE','MAPE',\n",
    "                                      'MPE','R2-score'])\n",
    "\n",
    "tp_eval = pd.DataFrame(columns=['sm_cat','model','alpha','MSE','RMSE','MAE','MAPE',\n",
    "                                      'MPE','R2-score'])\n"
   ]
  },
  {
   "cell_type": "code",
   "execution_count": null,
   "metadata": {},
   "outputs": [],
   "source": [
    "Ridge_alp_list=[]\n",
    "alp = np.arange(1,100,0.1)\n",
    "for i in alp:\n",
    "    Ridge_alp_list.append(round(i,2))\n",
    "\n",
    "Lasso_alp_list=[]\n",
    "alp = np.arange(0,1,0.001)\n",
    "for i in alp:\n",
    "    Lasso_alp_list.append(round(i,3))"
   ]
  },
  {
   "cell_type": "code",
   "execution_count": null,
   "metadata": {},
   "outputs": [],
   "source": [
    "from sklearn.linear_model import LinearRegression, Ridge, Lasso\n",
    "from scipy.stats import skew"
   ]
  },
  {
   "cell_type": "markdown",
   "metadata": {},
   "source": [
    "## 냉난방"
   ]
  },
  {
   "cell_type": "code",
   "execution_count": null,
   "metadata": {},
   "outputs": [],
   "source": [
    "for cg_ in ['벽걸이형 냉온풍기','스탠드형 냉온풍기']:\n",
    "    buy_weather_tp_cg = buy_weather_tp[buy_weather_tp['sm_cat'] == cg_]\n",
    "    \n",
    "    X_features,y_target,X_train, X_test, y_train, y_test = get_train_test_dataset(buy_weather_tp_cg)\n",
    "    \n",
    "    lr_reg = LinearRegression()\n",
    "    lr_reg.fit(X_train, y_train)\n",
    "\n",
    "    ridge_reg = Ridge()\n",
    "\n",
    "    param_grid_ridge = {'alpha': Ridge_alp_list}\n",
    "    grid_search_ridge = GridSearchCV(ridge_reg, param_grid=param_grid_ridge) \n",
    "    grid_search_ridge.fit(X_train, y_train)\n",
    "    best_alpha_ridge = grid_search_ridge.best_params_['alpha']\n",
    "    ridge_reg_GS = Ridge(alpha= best_alpha_ridge)\n",
    "    ridge_reg_GS.fit(X_train, y_train)\n",
    "\n",
    "\n",
    "    lasso_reg = Lasso()\n",
    "\n",
    "    param_grid_lasso = {'alpha': Lasso_alp_list}\n",
    "    grid_search_lasso = GridSearchCV(lasso_reg, param_grid=param_grid_lasso) \n",
    "    grid_search_lasso.fit(X_train, y_train)\n",
    "    best_alpha_lasso = grid_search_lasso.best_params_['alpha']\n",
    "    lasso_reg_GS=Lasso(alpha=best_alpha_lasso)\n",
    "    lasso_reg_GS.fit(X_train, y_train)\n",
    "\n",
    "\n",
    "    lasso_reg.fit(X_train, y_train)\n",
    "\n",
    "    models = [lr_reg, ridge_reg_GS, lasso_reg_GS]\n",
    "    print(cg_)\n",
    "    print('===========================================================================================================')    \n",
    "    rmse,mse,mae,mape,mpe,r2=get_rmses(lr_reg)\n",
    "    tp_eval= tp_eval.append({'sm_cat': cg_,'model':'LR','MSE': mse, 'RMSE': rmse, 'MAE':mae, 'MAPE':mape,\n",
    "                                     'MPE':mpe,'R2-score':r2}, ignore_index=True)\n",
    "\n",
    "    rmse,mse,mae,mape,mpe,r2=get_rmses(ridge_reg_GS)\n",
    "    tp_eval= tp_eval.append({'sm_cat': cg_,'model':'Ridge','alpha':best_alpha_ridge,'MSE': mse, 'RMSE': rmse, 'MAE':mae, 'MAPE':mape,\n",
    "                                     'MPE':mpe,'R2-score':r2}, ignore_index=True)\n",
    "\n",
    "    rmse,mse,mae,mape,mpe,r2=get_rmses(lasso_reg_GS)\n",
    "    tp_eval= tp_eval.append({'sm_cat': cg_,'model':'Lasso','alpha':best_alpha_lasso,'MSE': mse, 'RMSE': rmse, 'MAE':mae, 'MAPE':mape,\n",
    "                                     'MPE':mpe,'R2-score':r2}, ignore_index=True)\n",
    "    print('Ridge Alpha = ',best_alpha_ridge,'\\n')\n",
    "    print('Lasso Alpha = ',best_alpha_lasso,'\\n')\n",
    "\n",
    "    print('===========================================================================================================')"
   ]
  },
  {
   "cell_type": "code",
   "execution_count": null,
   "metadata": {},
   "outputs": [],
   "source": [
    "tp_eval_1 = tp_eval.groupby(['sm_cat','model']).sum()\n",
    "tp_eval_1"
   ]
  },
  {
   "cell_type": "markdown",
   "metadata": {},
   "source": [
    "## 냉방"
   ]
  },
  {
   "cell_type": "code",
   "execution_count": null,
   "metadata": {
    "scrolled": false
   },
   "outputs": [],
   "source": [
    "for cg_ in ['멀티형 에어컨', '벽걸이 에어컨', '벽걸이형 선풍기', '스탠드형 에어컨', '에어컨 리모컨', '탁상/USB 선풍기',\n",
    "       '휴대용 선풍기', '냉풍기', '이동형 에어컨', '중대형 에어컨', '천장형 에어컨', '에어커튼', '업소용 선풍기']:\n",
    "    buy_weather_tpr_cg = buy_weather_tpr[buy_weather_tpr['sm_cat'] == cg_]\n",
    "    \n",
    "    X_features,y_target,X_train, X_test, y_train, y_test = get_train_test_dataset(buy_weather_tpr_cg)\n",
    "    \n",
    "    lr_reg = LinearRegression()\n",
    "    lr_reg.fit(X_train, y_train)\n",
    "\n",
    "    ridge_reg = Ridge()\n",
    "\n",
    "    param_grid_ridge = {'alpha': Ridge_alp_list}\n",
    "    grid_search_ridge = GridSearchCV(ridge_reg, param_grid=param_grid_ridge) \n",
    "    grid_search_ridge.fit(X_train, y_train)\n",
    "    best_alpha_ridge = grid_search_ridge.best_params_['alpha']\n",
    "    ridge_reg_GS = Ridge(alpha= best_alpha_ridge)\n",
    "    ridge_reg_GS.fit(X_train, y_train)\n",
    "\n",
    "\n",
    "    lasso_reg = Lasso()\n",
    "\n",
    "    param_grid_lasso = {'alpha': Lasso_alp_list}\n",
    "    grid_search_lasso = GridSearchCV(lasso_reg, param_grid=param_grid_lasso) \n",
    "    grid_search_lasso.fit(X_train, y_train)\n",
    "    best_alpha_lasso = grid_search_lasso.best_params_['alpha']\n",
    "    lasso_reg_GS=Lasso(alpha=best_alpha_lasso)\n",
    "    lasso_reg_GS.fit(X_train, y_train)\n",
    "\n",
    "\n",
    "    lasso_reg.fit(X_train, y_train)\n",
    "\n",
    "    models = [lr_reg, ridge_reg_GS, lasso_reg_GS]\n",
    "    print(cg_)\n",
    "    print('===========================================================================================================')    \n",
    "    rmse,mse,mae,mape,mpe,r2=get_rmses(lr_reg)\n",
    "    tpr_eval= tpr_eval.append({'sm_cat': cg_,'model':'LR','MSE': mse, 'RMSE': rmse, 'MAE':mae, 'MAPE':mape,\n",
    "                                     'MPE':mpe,'R2-score':r2}, ignore_index=True)\n",
    "\n",
    "    rmse,mse,mae,mape,mpe,r2=get_rmses(ridge_reg_GS)\n",
    "    tpr_eval= tpr_eval.append({'sm_cat': cg_,'model':'Ridge','alpha':best_alpha_ridge,'MSE': mse, 'RMSE': rmse, 'MAE':mae, 'MAPE':mape,\n",
    "                                     'MPE':mpe,'R2-score':r2}, ignore_index=True)\n",
    "\n",
    "    rmse,mse,mae,mape,mpe,r2=get_rmses(lasso_reg_GS)\n",
    "    tpr_eval= tpr_eval.append({'sm_cat': cg_,'model':'Lasso','alpha':best_alpha_lasso,'MSE': mse, 'RMSE': rmse, 'MAE':mae, 'MAPE':mape,\n",
    "                                     'MPE':mpe,'R2-score':r2}, ignore_index=True)\n",
    "    print('Ridge Alpha = ',best_alpha_ridge,'\\n')\n",
    "    print('Lasso Alpha = ',best_alpha_lasso,'\\n')\n",
    "\n",
    "    print('===========================================================================================================')"
   ]
  },
  {
   "cell_type": "code",
   "execution_count": null,
   "metadata": {},
   "outputs": [],
   "source": [
    "tpr_eval_1 = tpr_eval.groupby(['sm_cat','model']).sum()\n",
    "tpr_eval_1"
   ]
  },
  {
   "cell_type": "markdown",
   "metadata": {},
   "source": [
    "## 난방"
   ]
  },
  {
   "cell_type": "code",
   "execution_count": null,
   "metadata": {
    "scrolled": false
   },
   "outputs": [],
   "source": [
    "for cg_ in ['가스온수기', '난방용 열풍기', '돈풍기', '라디에이터', '보일러', '온수매트', '온열매트',\n",
    "       '온풍기', '전기온수기', '전기장판', '카페트매트', '컨벡터', '황토매트', '히터']:\n",
    "    buy_weather_tph_cg = buy_weather_tph[buy_weather_tph['sm_cat'] == cg_]\n",
    "    \n",
    "    X_features,y_target,X_train, X_test, y_train, y_test = get_train_test_dataset(buy_weather_tph_cg)\n",
    "    \n",
    "    lr_reg = LinearRegression()\n",
    "    lr_reg.fit(X_train, y_train)\n",
    "\n",
    "    ridge_reg = Ridge()\n",
    "\n",
    "    param_grid_ridge = {'alpha': Ridge_alp_list}\n",
    "    grid_search_ridge = GridSearchCV(ridge_reg, param_grid=param_grid_ridge) \n",
    "    grid_search_ridge.fit(X_train, y_train)\n",
    "    best_alpha_ridge = grid_search_ridge.best_params_['alpha']\n",
    "    ridge_reg_GS = Ridge(alpha= best_alpha_ridge)\n",
    "    ridge_reg_GS.fit(X_train, y_train)\n",
    "\n",
    "\n",
    "    lasso_reg = Lasso()\n",
    "\n",
    "    param_grid_lasso = {'alpha': Lasso_alp_list}\n",
    "    grid_search_lasso = GridSearchCV(lasso_reg, param_grid=param_grid_lasso) \n",
    "    grid_search_lasso.fit(X_train, y_train)\n",
    "    best_alpha_lasso = grid_search_lasso.best_params_['alpha']\n",
    "    lasso_reg_GS=Lasso(alpha=best_alpha_lasso)\n",
    "    lasso_reg_GS.fit(X_train, y_train)\n",
    "\n",
    "\n",
    "    lasso_reg.fit(X_train, y_train)\n",
    "\n",
    "    models = [lr_reg, ridge_reg_GS, lasso_reg_GS]\n",
    "    print('===========================================================================================================')    \n",
    "    rmse,mse,mae,mape,mpe,r2=get_rmses(lr_reg)\n",
    "    tph_eval= tph_eval.append({'sm_cat': cg_,'model':'LR','MSE': mse, 'RMSE': rmse, 'MAE':mae, 'MAPE':mape,\n",
    "                                     'MPE':mpe,'R2-score':r2}, ignore_index=True)\n",
    "\n",
    "    rmse,mse,mae,mape,mpe,r2=get_rmses(ridge_reg_GS)\n",
    "    tph_eval= tph_eval.append({'sm_cat': cg_,'model':'Ridge','alpha':best_alpha_ridge,'MSE': mse, 'RMSE': rmse, 'MAE':mae, 'MAPE':mape,\n",
    "                                     'MPE':mpe,'R2-score':r2}, ignore_index=True)\n",
    "\n",
    "    rmse,mse,mae,mape,mpe,r2=get_rmses(lasso_reg_GS)\n",
    "    tph_eval= tph_eval.append({'sm_cat': cg_,'model':'Lasso','alpha':best_alpha_lasso,'MSE': mse, 'RMSE': rmse, 'MAE':mae, 'MAPE':mape,\n",
    "                                     'MPE':mpe,'R2-score':r2}, ignore_index=True)\n",
    "    print('Ridge Alpha = ',best_alpha_ridge,'\\n')\n",
    "    print('Lasso Alpha = ',best_alpha_lasso,'\\n')\n",
    "\n",
    "    print('===========================================================================================================')"
   ]
  },
  {
   "cell_type": "code",
   "execution_count": null,
   "metadata": {},
   "outputs": [],
   "source": [
    "tph_eval_1 = tph_eval.groupby(['sm_cat','model']).sum()\n",
    "tph_eval_1"
   ]
  },
  {
   "cell_type": "markdown",
   "metadata": {},
   "source": [
    "## 습도"
   ]
  },
  {
   "cell_type": "code",
   "execution_count": null,
   "metadata": {
    "scrolled": false
   },
   "outputs": [],
   "source": [
    "for cg_ in ['제습기','초음파식 가습기','자연식 가습기','복합식 가습기','신발건조기','의류건조기','가열식 가습기','에어워셔']:\n",
    "    buy_weather_hm_cg = buy_weather_hm[buy_weather_hm['sm_cat'] == cg_]\n",
    "    \n",
    "    X_features,y_target,X_train, X_test, y_train, y_test = get_train_test_dataset(buy_weather_hm_cg)\n",
    "    lr_reg = LinearRegression()\n",
    "    lr_reg.fit(X_train, y_train)\n",
    "\n",
    "    ridge_reg = Ridge()\n",
    "\n",
    "    param_grid_ridge = {'alpha': Ridge_alp_list}\n",
    "    grid_search_ridge = GridSearchCV(ridge_reg, param_grid=param_grid_ridge) \n",
    "    grid_search_ridge.fit(X_train, y_train)\n",
    "    best_alpha_ridge = grid_search_ridge.best_params_['alpha']\n",
    "    ridge_reg_GS = Ridge(alpha= best_alpha_ridge)\n",
    "    ridge_reg_GS.fit(X_train, y_train)\n",
    "\n",
    "\n",
    "    lasso_reg = Lasso()\n",
    "\n",
    "    param_grid_lasso = {'alpha': Lasso_alp_list}\n",
    "    grid_search_lasso = GridSearchCV(lasso_reg, param_grid=param_grid_lasso) \n",
    "    grid_search_lasso.fit(X_train, y_train)\n",
    "    best_alpha_lasso = grid_search_lasso.best_params_['alpha']\n",
    "    lasso_reg_GS=Lasso(alpha=best_alpha_lasso)\n",
    "    lasso_reg_GS.fit(X_train, y_train)\n",
    "\n",
    "\n",
    "    lasso_reg.fit(X_train, y_train)\n",
    "\n",
    "    models = [lr_reg, ridge_reg_GS, lasso_reg_GS]\n",
    "    print('===========================================================================================================')    \n",
    "    rmse,mse,mae,mape,mpe,r2=get_rmses(lr_reg)\n",
    "    hm_eval= hm_eval.append({'sm_cat': cg_,'model':'LR','MSE': mse, 'RMSE': rmse, 'MAE':mae, 'MAPE':mape,\n",
    "                                     'MPE':mpe,'R2-score':r2}, ignore_index=True)\n",
    "\n",
    "    rmse,mse,mae,mape,mpe,r2=get_rmses(ridge_reg_GS)\n",
    "    hm_eval= hm_eval.append({'sm_cat': cg_,'model':'Ridge','alpha':best_alpha_ridge,'MSE': mse, 'RMSE': rmse, 'MAE':mae, 'MAPE':mape,\n",
    "                                     'MPE':mpe,'R2-score':r2}, ignore_index=True)\n",
    "\n",
    "    rmse,mse,mae,mape,mpe,r2=get_rmses(lasso_reg_GS)\n",
    "    hm_eval= hm_eval.append({'sm_cat': cg_,'model':'Lasso','alpha':best_alpha_lasso,'MSE': mse, 'RMSE': rmse, 'MAE':mae, 'MAPE':mape,\n",
    "                                     'MPE':mpe,'R2-score':r2}, ignore_index=True)\n",
    "    print('Ridge Alpha = ',best_alpha_ridge,'\\n')\n",
    "    print('Lasso Alpha = ',best_alpha_lasso,'\\n')\n",
    "\n",
    "    print('===========================================================================================================')"
   ]
  },
  {
   "cell_type": "code",
   "execution_count": null,
   "metadata": {},
   "outputs": [],
   "source": [
    "hm_eval_1 = hm_eval.groupby(['sm_cat','model']).sum()\n",
    "hm_eval_1"
   ]
  },
  {
   "cell_type": "code",
   "execution_count": null,
   "metadata": {},
   "outputs": [],
   "source": [
    "for cg_ in ['공기청정기','공기정화 용품','산림욕기']:\n",
    "    buy_weather_ar_cg = buy_weather_ar[buy_weather_ar['sm_cat'] == cg_]\n",
    "    \n",
    "    X_features,y_target,X_train, X_test, y_train, y_test = get_train_test_dataset(buy_weather_ar_cg)\n",
    "    lr_reg = LinearRegression()\n",
    "    lr_reg.fit(X_train, y_train)\n",
    "\n",
    "    ridge_reg = Ridge()\n",
    "\n",
    "    param_grid_ridge = {'alpha': Ridge_alp_list}\n",
    "    grid_search_ridge = GridSearchCV(ridge_reg, param_grid=param_grid_ridge) \n",
    "    grid_search_ridge.fit(X_train, y_train)\n",
    "    best_alpha_ridge = grid_search_ridge.best_params_['alpha']\n",
    "    ridge_reg_GS = Ridge(alpha= best_alpha_ridge)\n",
    "    ridge_reg_GS.fit(X_train, y_train)\n",
    "\n",
    "\n",
    "    lasso_reg = Lasso()\n",
    "\n",
    "    param_grid_lasso = {'alpha': Lasso_alp_list}\n",
    "    grid_search_lasso = GridSearchCV(lasso_reg, param_grid=param_grid_lasso) \n",
    "    grid_search_lasso.fit(X_train, y_train)\n",
    "    best_alpha_lasso = grid_search_lasso.best_params_['alpha']\n",
    "    lasso_reg_GS=Lasso(alpha=best_alpha_lasso)\n",
    "    lasso_reg_GS.fit(X_train, y_train)\n",
    "\n",
    "\n",
    "    lasso_reg.fit(X_train, y_train)\n",
    "\n",
    "    models = [lr_reg, ridge_reg_GS, lasso_reg_GS]\n",
    "    models = [lr_reg, ridge_reg_GS, lasso_reg_GS]\n",
    "    print('===========================================================================================================')    \n",
    "    rmse,mse,mae,mape,mpe,r2=get_rmses(lr_reg)\n",
    "    air_eval= air_eval.append({'sm_cat': cg_,'model':'LR','MSE': mse, 'RMSE': rmse, 'MAE':mae, 'MAPE':mape,\n",
    "                                     'MPE':mpe,'R2-score':r2}, ignore_index=True)\n",
    "\n",
    "    rmse,mse,mae,mape,mpe,r2=get_rmses(ridge_reg_GS)\n",
    "    air_eval= air_eval.append({'sm_cat': cg_,'model':'Ridge','alpha':best_alpha_ridge,'MSE': mse, 'RMSE': rmse, 'MAE':mae, 'MAPE':mape,\n",
    "                                     'MPE':mpe,'R2-score':r2}, ignore_index=True)\n",
    "\n",
    "    rmse,mse,mae,mape,mpe,r2=get_rmses(lasso_reg_GS)\n",
    "    air_eval= air_eval.append({'sm_cat': cg_,'model':'Lasso','alpha':best_alpha_lasso,'MSE': mse, 'RMSE': rmse, 'MAE':mae, 'MAPE':mape,\n",
    "                                     'MPE':mpe,'R2-score':r2}, ignore_index=True)\n",
    "    print('Ridge Alpha = ',best_alpha_ridge,'\\n')\n",
    "    print('Lasso Alpha = ',best_alpha_lasso,'\\n')\n",
    "\n",
    "    print('===========================================================================================================')"
   ]
  },
  {
   "cell_type": "code",
   "execution_count": null,
   "metadata": {},
   "outputs": [],
   "source": [
    "air_eval_1 = air_eval.groupby(['sm_cat','model']).sum()\n",
    "air_eval_1"
   ]
  },
  {
   "cell_type": "code",
   "execution_count": null,
   "metadata": {},
   "outputs": [],
   "source": [
    "tpr_eval_1.to_csv('../활용 데이터셋/tpr_eval.csv', encoding='cp949',index=True)\n",
    "tph_eval_1.to_csv('../활용 데이터셋/tph_eval.csv', encoding='cp949',index=True)\n",
    "hm_eval_1.to_csv('../활용 데이터셋/hm_eval.csv', encoding='cp949',index=True)\n",
    "air_eval_1.to_csv('../활용 데이터셋/air_eval.csv', encoding='cp949',index=True)"
   ]
  }
 ],
 "metadata": {
  "kernelspec": {
   "display_name": "Python 3",
   "language": "python",
   "name": "python3"
  },
  "language_info": {
   "codemirror_mode": {
    "name": "ipython",
    "version": 3
   },
   "file_extension": ".py",
   "mimetype": "text/x-python",
   "name": "python",
   "nbconvert_exporter": "python",
   "pygments_lexer": "ipython3",
   "version": "3.8.8"
  }
 },
 "nbformat": 4,
 "nbformat_minor": 4
}
